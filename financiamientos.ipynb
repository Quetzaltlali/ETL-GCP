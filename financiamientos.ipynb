{
 "cells": [
  {
   "cell_type": "markdown",
   "metadata": {},
   "source": [
    "#### Extraer Consulta de Datos sobre Financiamientos"
   ]
  },
  {
   "cell_type": "markdown",
   "metadata": {},
   "source": [
    "El presente código tiene como objetivo crear una visualización final de la consulta de datos sobre operaciones financieras "
   ]
  },
  {
   "cell_type": "code",
   "execution_count": 2,
   "metadata": {},
   "outputs": [
    {
     "name": "stdout",
     "output_type": "stream",
     "text": [
      "Collecting kaleido==0.1.0post1\n",
      "  Using cached kaleido-0.1.0.post1-py2.py3-none-win_amd64.whl.metadata (15 kB)\n",
      "Using cached kaleido-0.1.0.post1-py2.py3-none-win_amd64.whl (56.0 MB)\n",
      "Installing collected packages: kaleido\n",
      "  Attempting uninstall: kaleido\n",
      "    Found existing installation: kaleido 0.1.0.post1\n",
      "    Uninstalling kaleido-0.1.0.post1:\n",
      "      Successfully uninstalled kaleido-0.1.0.post1\n",
      "Successfully installed kaleido-0.1.0.post1\n"
     ]
    }
   ],
   "source": [
    "# Instalar librería kaleido para guardar imagenes\n",
    "!pip install --force-reinstall kaleido==0.1.0post1"
   ]
  },
  {
   "cell_type": "code",
   "execution_count": 3,
   "metadata": {},
   "outputs": [],
   "source": [
    "# Importar librerías necesarias\n",
    "import json\n",
    "import matplotlib.pyplot as plt\n",
    "from matplotlib import rcParams\n",
    "import psycopg2\n",
    "import os\n",
    "import re\n",
    "import csv\n",
    "import platform\n",
    "import subprocess\n",
    "import pandas as pd\n",
    "import plotly.graph_objects as go"
   ]
  },
  {
   "cell_type": "code",
   "execution_count": 16,
   "metadata": {},
   "outputs": [
    {
     "name": "stdout",
     "output_type": "stream",
     "text": [
      "Ruta actual 📂: C:\\Users\\quetz\\Documents\n"
     ]
    }
   ],
   "source": [
    "# Establecer la ruta del directorio donde trabajaremos\n",
    "ruta_proyecto = r'C:\\Users\\quetz\\Documents'  #Agregar la ruta que necesitamos\n",
    "os.chdir(ruta_proyecto)  # Ejecutar nuestra ruta \n",
    "\n",
    "# Verificar que se ha cambiado la ruta\n",
    "print(\"Ruta actual 📂:\", os.getcwd())\n"
   ]
  },
  {
   "cell_type": "code",
   "execution_count": 17,
   "metadata": {},
   "outputs": [
    {
     "name": "stdout",
     "output_type": "stream",
     "text": [
      "Conexión exitosa a la base de datos 🥳✅\n",
      "Consulta ejecutada y resultados guardados en 'consulta_resultados.csv'\n"
     ]
    }
   ],
   "source": [
    "# Parámetros de conexión / accesos\n",
    "DB = {\n",
    "    'host': '*******',\n",
    "    'database': 'biprod',\n",
    "    'user': 'alejandra_gonzalez',\n",
    "    'password': 'AGonzalez123.$'\n",
    "}\n",
    "\n",
    "try:\n",
    "    # Conexión a la base de datos\n",
    "    conn = psycopg2.connect(**DB)\n",
    "    cur = conn.cursor()\n",
    "\n",
    "    # Verificación de la conexión\n",
    "    print(\"Conexión exitosa a la base de datos 🥳✅\")\n",
    "\n",
    "    # Consulta postgress\n",
    "    query = \"\"\"\n",
    "    SELECT \n",
    "        l.usuarioCapturo,\n",
    "        l.nombreEmpleado,\n",
    "        l.puestoEmpleado,\n",
    "        to_char(l.fechaSolicitud, 'DD/MM/YYYY') AS fechaSolicitud,\n",
    "        COALESCE(NULLIF(l.region, 'NACIONAL'), 'CIUDAD DE MEXICO') AS region,\n",
    "        COALESCE(NULLIF(l.estado, 'CALL CENTER'), 'CORPORATIVO') AS estado,\n",
    "        COALESCE(NULLIF(l.sucursal, 'BROKER MEXI'), 'CORPORATIVO') AS sucursal,\n",
    "        COALESCE(\n",
    "            (SELECT UPPER(r.descripcion)\n",
    "             FROM acle.erp_catsucursales s\n",
    "             JOIN acle.erp_catregion r ON s.idregion = r.idregion\n",
    "             WHERE UPPER(s.nombresucursal) = UPPER(\n",
    "                COALESCE(p.sucursal, pp.sucursal, ppp.sucursal, 'CORPORATIVO'))\n",
    "             AND fechainactividad IS NULL \n",
    "             LIMIT 1), \n",
    "            'CORPORATIVO'\n",
    "        ) AS regionAsesor,\n",
    "        COALESCE(p.estado, pp.estado, ppp.estado, 'CIUDAD DE MEXICO') AS estadoAsesor,\n",
    "        COALESCE(p.sucursal, pp.sucursal, ppp.sucursal, 'CORPORATIVO') AS sucursalAsesor,\n",
    "        l.numeroSolicitud,\n",
    "        l.numeroCliente,\n",
    "        l.nombreCliente,\n",
    "        l.folioSolicitud,\n",
    "        dh.description AS dependenciaHomologada,\n",
    "        cp.lineaNegocio,\n",
    "        cp.descripcionCOE,\n",
    "        l.tipoDispersion,\n",
    "        l.tipoPromocion,\n",
    "        l.pagos,\n",
    "        split_part(l.nombreGerente, ',', 1) AS cvegerente,\n",
    "        TRIM(split_part(l.nombreGerente, ',', 2)) AS nombreGerente,\n",
    "        split_part(l.nombreSupervisor, ',', 1) AS cvesupervisor,\n",
    "        TRIM(split_part(l.nombreSupervisor, ',', 2)) AS nombreSupervisor,\n",
    "        split_part(l.nombreAsesor, ',', 1) AS cveasesor,\n",
    "        TRIM(split_part(l.nombreAsesor, ',', 2)) AS nombreAsesor,\n",
    "        to_char(b.fechaApertura, 'DD/MM/YYYY') AS fechaApertura,\n",
    "        (l.montoCobrado + l.montoACobrar) AS montoColocacion,\n",
    "        l.fechaCobro,\n",
    "        l.numeroCredito,\n",
    "        l.estatusC,\n",
    "        l.estatusD,\n",
    "        l.estatus,\n",
    "        l.fechaHoraInicioCaptura,\n",
    "        l.fechaHoraFinCaptura,\n",
    "        l.fechaEstatus,\n",
    "        l.horaEstatus,\n",
    "        l.horasOperativas,\n",
    "        l.totalDevolucionesZell,\n",
    "        l.totalDevolucionesAnalistas,\n",
    "        l.lineaCredito,\n",
    "        l.seguro,\n",
    "        l.banco,\n",
    "        l.subtipoPromocion,\n",
    "        l.producto,\n",
    "        b.dap AS cveDap,\n",
    "        (SELECT od.etiqueta\n",
    "         FROM dwhprod.dwh_bidatocomun dc\n",
    "         JOIN dwhprod.dwh_catopciondato od ON dc.iddato = od.iddato AND dc.valordato = od.valor\n",
    "         WHERE dc.numerocredito = l.numeroSolicitud\n",
    "           AND dc.idreferencia = 9\n",
    "           AND dc.iddato = 95\n",
    "         LIMIT 1) AS tipoNombramiento,\n",
    "        (SELECT od.etiqueta\n",
    "         FROM dwhprod.dwh_bidatocomun dc\n",
    "         JOIN dwhprod.dwh_catopciondato od ON dc.iddato = od.iddato AND dc.valordato = od.valor\n",
    "         WHERE dc.numerocredito = l.numeroSolicitud\n",
    "           AND dc.idreferencia = 9\n",
    "           AND dc.iddato = 96\n",
    "         LIMIT 1) AS tipoEmpleado,\n",
    "        l.genero,\n",
    "        p.puestoAsesor,\n",
    "        CASE \n",
    "            WHEN t.tasaGlobal IS NOT NULL \n",
    "            THEN CONCAT_WS('', TO_CHAR(CAST(t.tasaGlobal AS NUMERIC), '99D0999'), '%') \n",
    "            ELSE '' \n",
    "        END AS valorTasaGlobal,\n",
    "        l.dependencia\n",
    "    FROM \n",
    "        dwhprod.dwh_vwTiemposOriginacion2 l\n",
    "    LEFT JOIN dwhprod.dwh_bicredito b ON l.numeroSolicitud = b.numeroSolicitud\n",
    "    LEFT JOIN dwhprod.dwh_biplantillaempleados p ON split_part(l.nombreAsesor, ',', 1) = p.idEmpleado\n",
    "    LEFT JOIN dwhprod.dwh_biplantillaempleados pp ON split_part(l.nombreSupervisor, ',', 1) = pp.idEmpleado\n",
    "    LEFT JOIN dwhprod.dwh_biplantillaempleados ppp ON split_part(l.nombreGerente, ',', 1) = ppp.idEmpleado\n",
    "    LEFT JOIN dwhprod.dwh_catDependencias dd ON b.idDependencia = dd.idDependencia\n",
    "    LEFT JOIN dataprod.catafiliatehm dhm ON UPPER(dd.cveDependencia) = UPPER(dhm.afiliateid)\n",
    "    LEFT JOIN dataprod.catgovermentdependency dh ON dhm.govermentdependencyid = dh.govermentdependencyid\n",
    "    LEFT JOIN dwhprod.dwh_catproductos cp ON b.idProducto = cp.idProducto\n",
    "    LEFT JOIN dwhprod.tblcreddictaminacion t ON b.numeroCredito = t.idCredito;\n",
    "    \"\"\"\n",
    "    \n",
    "    # Ejecutar la consulta\n",
    "    cur.execute(query)\n",
    "\n",
    "    # Recuperar los resultados\n",
    "    rows = cur.fetchall()\n",
    "    column_names = [desc[0] for desc in cur.description]\n",
    "\n",
    "    # Guardar resultados en un archivo CSV\n",
    "    with open('consulta_resultados.csv', mode='w', newline='', encoding='utf-8') as file:\n",
    "        writer = csv.writer(file)\n",
    "        writer.writerow(column_names)  # Escribir encabezados\n",
    "        writer.writerows(rows)         # Escribir datos\n",
    "\n",
    "    print(\"Consulta ejecutada y resultados guardados en 'consulta_resultados.csv'\")\n",
    "\n",
    "except psycopg2.Error as e:\n",
    "    print(f\"Error en la conexión o consulta: {e}\")\n",
    "\n",
    "finally:\n",
    "    if cur:\n",
    "        cur.close()\n",
    "    if conn:\n",
    "        conn.close()\n",
    "        "
   ]
  },
  {
   "cell_type": "code",
   "execution_count": 18,
   "metadata": {},
   "outputs": [
    {
     "name": "stdout",
     "output_type": "stream",
     "text": [
      "El archivo se guardó en la ruta 📂✅: C:\\Users\\quetz\\Documents\\resultados_consulta.csv\n"
     ]
    }
   ],
   "source": [
    "archivo_salida = 'resultados_consulta.csv'\n",
    "ruta = os.path.abspath(archivo_salida)\n",
    "print(f\"El archivo se guardó en la ruta 📂✅: {ruta}\")\n"
   ]
  },
  {
   "cell_type": "code",
   "execution_count": 19,
   "metadata": {},
   "outputs": [],
   "source": [
    "# Ruta del archivop csv\n",
    "csv_path = 'consulta_resultados.csv'"
   ]
  },
  {
   "cell_type": "code",
   "execution_count": 20,
   "metadata": {},
   "outputs": [
    {
     "data": {
      "text/html": [
       "<div>\n",
       "<style scoped>\n",
       "    .dataframe tbody tr th:only-of-type {\n",
       "        vertical-align: middle;\n",
       "    }\n",
       "\n",
       "    .dataframe tbody tr th {\n",
       "        vertical-align: top;\n",
       "    }\n",
       "\n",
       "    .dataframe thead th {\n",
       "        text-align: right;\n",
       "    }\n",
       "</style>\n",
       "<table border=\"1\" class=\"dataframe\">\n",
       "  <thead>\n",
       "    <tr style=\"text-align: right;\">\n",
       "      <th></th>\n",
       "      <th>estatus</th>\n",
       "      <th>num_solicitudes</th>\n",
       "      <th>monto_total</th>\n",
       "    </tr>\n",
       "  </thead>\n",
       "  <tbody>\n",
       "    <tr>\n",
       "      <th>0</th>\n",
       "      <td>Analisis CF</td>\n",
       "      <td>24</td>\n",
       "      <td>765364.82</td>\n",
       "    </tr>\n",
       "    <tr>\n",
       "      <th>1</th>\n",
       "      <td>Aperturada</td>\n",
       "      <td>6</td>\n",
       "      <td>150869.48</td>\n",
       "    </tr>\n",
       "    <tr>\n",
       "      <th>2</th>\n",
       "      <td>Aperturada y Cobrada</td>\n",
       "      <td>701</td>\n",
       "      <td>16849133.37</td>\n",
       "    </tr>\n",
       "    <tr>\n",
       "      <th>3</th>\n",
       "      <td>Autorizada</td>\n",
       "      <td>2</td>\n",
       "      <td>40000.00</td>\n",
       "    </tr>\n",
       "    <tr>\n",
       "      <th>4</th>\n",
       "      <td>Cancelada</td>\n",
       "      <td>89</td>\n",
       "      <td>2222482.95</td>\n",
       "    </tr>\n",
       "    <tr>\n",
       "      <th>5</th>\n",
       "      <td>Capturada</td>\n",
       "      <td>27</td>\n",
       "      <td>611435.68</td>\n",
       "    </tr>\n",
       "    <tr>\n",
       "      <th>6</th>\n",
       "      <td>Colocacion  Portal</td>\n",
       "      <td>9</td>\n",
       "      <td>146386.21</td>\n",
       "    </tr>\n",
       "    <tr>\n",
       "      <th>7</th>\n",
       "      <td>Devolucion CF</td>\n",
       "      <td>21</td>\n",
       "      <td>887970.53</td>\n",
       "    </tr>\n",
       "    <tr>\n",
       "      <th>8</th>\n",
       "      <td>Mesa de Control</td>\n",
       "      <td>6</td>\n",
       "      <td>157958.49</td>\n",
       "    </tr>\n",
       "    <tr>\n",
       "      <th>9</th>\n",
       "      <td>Pendiente por Sistema</td>\n",
       "      <td>2</td>\n",
       "      <td>126960.00</td>\n",
       "    </tr>\n",
       "    <tr>\n",
       "      <th>10</th>\n",
       "      <td>Por Autorizar</td>\n",
       "      <td>5</td>\n",
       "      <td>96427.30</td>\n",
       "    </tr>\n",
       "    <tr>\n",
       "      <th>11</th>\n",
       "      <td>Por Formalizar</td>\n",
       "      <td>7</td>\n",
       "      <td>144856.14</td>\n",
       "    </tr>\n",
       "    <tr>\n",
       "      <th>12</th>\n",
       "      <td>Pre Capturada</td>\n",
       "      <td>207</td>\n",
       "      <td>7682731.00</td>\n",
       "    </tr>\n",
       "    <tr>\n",
       "      <th>13</th>\n",
       "      <td>Rechazo CF</td>\n",
       "      <td>40</td>\n",
       "      <td>1335955.97</td>\n",
       "    </tr>\n",
       "    <tr>\n",
       "      <th>14</th>\n",
       "      <td>SBC</td>\n",
       "      <td>1</td>\n",
       "      <td>160066.00</td>\n",
       "    </tr>\n",
       "    <tr>\n",
       "      <th>15</th>\n",
       "      <td>ValidacionTelefonica</td>\n",
       "      <td>1</td>\n",
       "      <td>80000.00</td>\n",
       "    </tr>\n",
       "    <tr>\n",
       "      <th>16</th>\n",
       "      <td>Validación con ADC</td>\n",
       "      <td>5</td>\n",
       "      <td>203545.40</td>\n",
       "    </tr>\n",
       "    <tr>\n",
       "      <th>17</th>\n",
       "      <td>VoBo de Calidad</td>\n",
       "      <td>2</td>\n",
       "      <td>56000.00</td>\n",
       "    </tr>\n",
       "    <tr>\n",
       "      <th>18</th>\n",
       "      <td>Total</td>\n",
       "      <td>1155</td>\n",
       "      <td>31718143.34</td>\n",
       "    </tr>\n",
       "  </tbody>\n",
       "</table>\n",
       "</div>"
      ],
      "text/plain": [
       "                  estatus  num_solicitudes  monto_total\n",
       "0             Analisis CF               24    765364.82\n",
       "1              Aperturada                6    150869.48\n",
       "2    Aperturada y Cobrada              701  16849133.37\n",
       "3              Autorizada                2     40000.00\n",
       "4               Cancelada               89   2222482.95\n",
       "5               Capturada               27    611435.68\n",
       "6      Colocacion  Portal                9    146386.21\n",
       "7           Devolucion CF               21    887970.53\n",
       "8         Mesa de Control                6    157958.49\n",
       "9   Pendiente por Sistema                2    126960.00\n",
       "10          Por Autorizar                5     96427.30\n",
       "11         Por Formalizar                7    144856.14\n",
       "12          Pre Capturada              207   7682731.00\n",
       "13             Rechazo CF               40   1335955.97\n",
       "14                    SBC                1    160066.00\n",
       "15   ValidacionTelefonica                1     80000.00\n",
       "16     Validación con ADC                5    203545.40\n",
       "17        VoBo de Calidad                2     56000.00\n",
       "18                  Total             1155  31718143.34"
      ]
     },
     "execution_count": 20,
     "metadata": {},
     "output_type": "execute_result"
    }
   ],
   "source": [
    "import pandas as pd\n",
    "\n",
    "# Leer el archivo CSV\n",
    "df = pd.read_csv(csv_path, encoding='utf-8', on_bad_lines='skip')\n",
    "\n",
    "# Agrupar por estatus y calcular el número de solicitudes y el monto total\n",
    "resultado = df.groupby('estatus').agg(\n",
    "    num_solicitudes=('numerosolicitud', 'count'),\n",
    "    monto_total=('montocolocacion', 'sum')\n",
    ").reset_index()\n",
    "\n",
    "# Calcular la suma de los totales\n",
    "total_solicitudes = resultado['num_solicitudes'].sum()\n",
    "total_monto = resultado['monto_total'].sum()\n",
    "\n",
    "# Crear un nuevo DataFrame con los totales\n",
    "totales = pd.DataFrame({\n",
    "    'estatus': ['Total'],\n",
    "    'num_solicitudes': [total_solicitudes],\n",
    "    'monto_total': [total_monto]\n",
    "})\n",
    "\n",
    "# Concatenar los totales con el resultado original\n",
    "resultado = pd.concat([resultado, totales], ignore_index=True)\n",
    "resultado\n"
   ]
  },
  {
   "cell_type": "code",
   "execution_count": 37,
   "metadata": {},
   "outputs": [
    {
     "data": {
      "text/html": [
       "<div>\n",
       "<style scoped>\n",
       "    .dataframe tbody tr th:only-of-type {\n",
       "        vertical-align: middle;\n",
       "    }\n",
       "\n",
       "    .dataframe tbody tr th {\n",
       "        vertical-align: top;\n",
       "    }\n",
       "\n",
       "    .dataframe thead th {\n",
       "        text-align: right;\n",
       "    }\n",
       "</style>\n",
       "<table border=\"1\" class=\"dataframe\">\n",
       "  <thead>\n",
       "    <tr style=\"text-align: right;\">\n",
       "      <th></th>\n",
       "      <th>estatus</th>\n",
       "      <th>num_solicitudes</th>\n",
       "      <th>monto_total</th>\n",
       "      <th>porcentaje</th>\n",
       "    </tr>\n",
       "  </thead>\n",
       "  <tbody>\n",
       "    <tr>\n",
       "      <th>0</th>\n",
       "      <td>Mes Pasado Comprobado</td>\n",
       "      <td>80</td>\n",
       "      <td>2762042.00</td>\n",
       "      <td>NaN</td>\n",
       "    </tr>\n",
       "    <tr>\n",
       "      <th>1</th>\n",
       "      <td>Analisis CF</td>\n",
       "      <td>24</td>\n",
       "      <td>765364.82</td>\n",
       "      <td>2.41</td>\n",
       "    </tr>\n",
       "    <tr>\n",
       "      <th>2</th>\n",
       "      <td>Aperturada</td>\n",
       "      <td>6</td>\n",
       "      <td>150869.48</td>\n",
       "      <td>0.48</td>\n",
       "    </tr>\n",
       "    <tr>\n",
       "      <th>3</th>\n",
       "      <td>Aperturada y Cobrada</td>\n",
       "      <td>701</td>\n",
       "      <td>16849133.37</td>\n",
       "      <td>53.12</td>\n",
       "    </tr>\n",
       "    <tr>\n",
       "      <th>4</th>\n",
       "      <td>Autorizada</td>\n",
       "      <td>2</td>\n",
       "      <td>40000.00</td>\n",
       "      <td>0.13</td>\n",
       "    </tr>\n",
       "    <tr>\n",
       "      <th>5</th>\n",
       "      <td>Cancelada</td>\n",
       "      <td>89</td>\n",
       "      <td>2222482.95</td>\n",
       "      <td>7.01</td>\n",
       "    </tr>\n",
       "    <tr>\n",
       "      <th>6</th>\n",
       "      <td>Capturada</td>\n",
       "      <td>27</td>\n",
       "      <td>611435.68</td>\n",
       "      <td>1.93</td>\n",
       "    </tr>\n",
       "    <tr>\n",
       "      <th>7</th>\n",
       "      <td>Colocacion  Portal</td>\n",
       "      <td>9</td>\n",
       "      <td>146386.21</td>\n",
       "      <td>0.46</td>\n",
       "    </tr>\n",
       "    <tr>\n",
       "      <th>8</th>\n",
       "      <td>Devolucion CF</td>\n",
       "      <td>21</td>\n",
       "      <td>887970.53</td>\n",
       "      <td>2.80</td>\n",
       "    </tr>\n",
       "    <tr>\n",
       "      <th>9</th>\n",
       "      <td>Mesa de Control</td>\n",
       "      <td>6</td>\n",
       "      <td>157958.49</td>\n",
       "      <td>0.50</td>\n",
       "    </tr>\n",
       "    <tr>\n",
       "      <th>10</th>\n",
       "      <td>Pendiente por Sistema</td>\n",
       "      <td>2</td>\n",
       "      <td>126960.00</td>\n",
       "      <td>0.40</td>\n",
       "    </tr>\n",
       "    <tr>\n",
       "      <th>11</th>\n",
       "      <td>Por Autorizar</td>\n",
       "      <td>5</td>\n",
       "      <td>96427.30</td>\n",
       "      <td>0.30</td>\n",
       "    </tr>\n",
       "    <tr>\n",
       "      <th>12</th>\n",
       "      <td>Por Formalizar</td>\n",
       "      <td>7</td>\n",
       "      <td>144856.14</td>\n",
       "      <td>0.46</td>\n",
       "    </tr>\n",
       "    <tr>\n",
       "      <th>13</th>\n",
       "      <td>Pre Capturada</td>\n",
       "      <td>207</td>\n",
       "      <td>7682731.00</td>\n",
       "      <td>24.22</td>\n",
       "    </tr>\n",
       "    <tr>\n",
       "      <th>14</th>\n",
       "      <td>Rechazo CF</td>\n",
       "      <td>40</td>\n",
       "      <td>1335955.97</td>\n",
       "      <td>4.21</td>\n",
       "    </tr>\n",
       "    <tr>\n",
       "      <th>15</th>\n",
       "      <td>SBC</td>\n",
       "      <td>1</td>\n",
       "      <td>160066.00</td>\n",
       "      <td>0.50</td>\n",
       "    </tr>\n",
       "    <tr>\n",
       "      <th>16</th>\n",
       "      <td>ValidacionTelefonica</td>\n",
       "      <td>1</td>\n",
       "      <td>80000.00</td>\n",
       "      <td>0.25</td>\n",
       "    </tr>\n",
       "    <tr>\n",
       "      <th>17</th>\n",
       "      <td>Validación con ADC</td>\n",
       "      <td>5</td>\n",
       "      <td>203545.40</td>\n",
       "      <td>0.64</td>\n",
       "    </tr>\n",
       "    <tr>\n",
       "      <th>18</th>\n",
       "      <td>VoBo de Calidad</td>\n",
       "      <td>2</td>\n",
       "      <td>56000.00</td>\n",
       "      <td>0.18</td>\n",
       "    </tr>\n",
       "    <tr>\n",
       "      <th>19</th>\n",
       "      <td>Total</td>\n",
       "      <td>1155</td>\n",
       "      <td>31718143.34</td>\n",
       "      <td>75.78</td>\n",
       "    </tr>\n",
       "    <tr>\n",
       "      <th>20</th>\n",
       "      <td>TUBERIA</td>\n",
       "      <td>61</td>\n",
       "      <td>1777498.36</td>\n",
       "      <td>5.28</td>\n",
       "    </tr>\n",
       "    <tr>\n",
       "      <th>21</th>\n",
       "      <td>Salvo Buen Cobro</td>\n",
       "      <td>0</td>\n",
       "      <td>0.00</td>\n",
       "      <td>0.00</td>\n",
       "    </tr>\n",
       "    <tr>\n",
       "      <th>22</th>\n",
       "      <td>Aperturada y Cobrada.</td>\n",
       "      <td>781</td>\n",
       "      <td>19611175.37</td>\n",
       "      <td>NaN</td>\n",
       "    </tr>\n",
       "  </tbody>\n",
       "</table>\n",
       "</div>"
      ],
      "text/plain": [
       "                  estatus  num_solicitudes  monto_total  porcentaje\n",
       "0   Mes Pasado Comprobado               80   2762042.00         NaN\n",
       "1             Analisis CF               24    765364.82        2.41\n",
       "2              Aperturada                6    150869.48        0.48\n",
       "3    Aperturada y Cobrada              701  16849133.37       53.12\n",
       "4              Autorizada                2     40000.00        0.13\n",
       "5               Cancelada               89   2222482.95        7.01\n",
       "6               Capturada               27    611435.68        1.93\n",
       "7      Colocacion  Portal                9    146386.21        0.46\n",
       "8           Devolucion CF               21    887970.53        2.80\n",
       "9         Mesa de Control                6    157958.49        0.50\n",
       "10  Pendiente por Sistema                2    126960.00        0.40\n",
       "11          Por Autorizar                5     96427.30        0.30\n",
       "12         Por Formalizar                7    144856.14        0.46\n",
       "13          Pre Capturada              207   7682731.00       24.22\n",
       "14             Rechazo CF               40   1335955.97        4.21\n",
       "15                    SBC                1    160066.00        0.50\n",
       "16   ValidacionTelefonica                1     80000.00        0.25\n",
       "17     Validación con ADC                5    203545.40        0.64\n",
       "18        VoBo de Calidad                2     56000.00        0.18\n",
       "19                  Total             1155  31718143.34       75.78\n",
       "20                TUBERIA               61   1777498.36        5.28\n",
       "21       Salvo Buen Cobro                0         0.00        0.00\n",
       "22  Aperturada y Cobrada.              781  19611175.37         NaN"
      ]
     },
     "execution_count": 37,
     "metadata": {},
     "output_type": "execute_result"
    }
   ],
   "source": [
    "import pandas as pd\n",
    "\n",
    "# Leer el archivo CSV\n",
    "df = pd.read_csv(csv_path, encoding='utf-8', on_bad_lines='skip')\n",
    "\n",
    "# Agrupar por 'estatus' y calcular el número de solicitudes y la suma del monto\n",
    "resultado = df.groupby('estatus').agg(\n",
    "    num_solicitudes=('numerosolicitud', 'count'),\n",
    "    monto_total=('montocolocacion', 'sum')\n",
    ").reset_index()\n",
    "\n",
    "# Calcular la suma total de solicitudes y montos\n",
    "total_fila = pd.DataFrame({\n",
    "    'estatus': ['Total'],\n",
    "    'num_solicitudes': [resultado['num_solicitudes'].sum()],\n",
    "    'monto_total': [resultado['monto_total'].sum()]\n",
    "})\n",
    "\n",
    "# Usar concat para agregar la fila de la suma total al resultado\n",
    "resultado = pd.concat([resultado, total_fila], ignore_index=True)\n",
    "\n",
    "# Definir las categorías que deben incluirse en 'TUBERIA'\n",
    "e_tuberia = [\n",
    "    'Analisis CF', 'Colocacion  Portal', 'Mesa de Control', \n",
    "    'Pendiente CR', 'Pendiente por Sistema', 'Por Autorizar Refiel', 'Por Formalizar',\n",
    "    'Sin contacto telefónico', 'Validación con ADC', 'ValidacionTelefonica', \n",
    "    'Validata', 'VoBo de Calidad', 'Por Autorizar', \n",
    "    'Pendiente por cambio de anexo o política'\n",
    "]\n",
    "\n",
    "# Filtrar las categorías de 'TUBERIA' y calcular los totales\n",
    "tuberia_df = resultado[resultado['estatus'].isin(e_tuberia)]\n",
    "tuberia_totales = {\n",
    "    'estatus': 'TUBERIA',\n",
    "    'num_solicitudes': tuberia_df['num_solicitudes'].sum(),\n",
    "    'monto_total': tuberia_df['monto_total'].sum()\n",
    "}\n",
    "\n",
    "# Convertir 'TUBERIA' a DataFrame\n",
    "tuberia_fila = pd.DataFrame([tuberia_totales])\n",
    "\n",
    "# Agregar la fila 'TUBERIA' después de la fila 'Total'\n",
    "tuberia_p = resultado[resultado['estatus'] == 'Total'].index[0]\n",
    "resultado = pd.concat([resultado.iloc[:tuberia_p+1], tuberia_fila, resultado.iloc[tuberia_p+1:]], ignore_index=True)\n",
    "\n",
    "# Definir la fila de 'Mes Pasado Comprobado'\n",
    "mes_pasado_comprobado = {\n",
    "    'estatus': 'Mes Pasado Comprobado',\n",
    "    'num_solicitudes': 80,  # Agregado manualmente\n",
    "    'monto_total': 2762042  # Agregado manualmente\n",
    "}\n",
    "\n",
    "# Agregar la fila 'Mes Pasado Comprobado' al inicio del df\n",
    "resultado = pd.concat([pd.DataFrame([mes_pasado_comprobado]), resultado], ignore_index=True)\n",
    "\n",
    "# Agregar 'Salvo Buen Cobro' a la columna estatus después de 'TUBERIA'\n",
    "if 'Salvo Buen Cobro' in resultado['estatus'].values:\n",
    "    salvo_buen_cobro = resultado.loc[resultado['estatus'] == 'Salvo Buen Cobro'].iloc[0]\n",
    "else:\n",
    "    salvo_buen_cobro = {\n",
    "        'estatus': 'Salvo Buen Cobro',\n",
    "        'num_solicitudes': 0,\n",
    "        'monto_total': 0 }\n",
    "\n",
    "# Crear DataFrame de 'Salvo Buen Cobro' y agregarlo después de la fila 'TUBERIA'\n",
    "salvo_bc = resultado[resultado['estatus'] == 'TUBERIA'].index[0]\n",
    "salvo_buen_cobro_df = pd.DataFrame([salvo_buen_cobro])\n",
    "resultado = pd.concat([resultado.iloc[:salvo_bc+1], salvo_buen_cobro_df, resultado.iloc[salvo_bc+1:]], ignore_index=True)\n",
    "\n",
    "# Sumar los valores de 'Aperturada y Cobrada' y 'Mes Pasado Comprobado'\n",
    "aperturada_y_cobrada = resultado[resultado['estatus'].isin(['Aperturada y Cobrada', 'Mes Pasado Comprobado'])].agg({\n",
    "    'num_solicitudes': 'sum',\n",
    "    'monto_total': 'sum'\n",
    "}).to_dict()\n",
    "\n",
    "# Crear la fila de 'Aperturada y Cobrada'\n",
    "aperturada_y_cobrada_fila = {\n",
    "    'estatus': 'Aperturada y Cobrada.',\n",
    "    'num_solicitudes': aperturada_y_cobrada['num_solicitudes'],\n",
    "    'monto_total': aperturada_y_cobrada['monto_total']\n",
    "}\n",
    "\n",
    "# Convertir la fila a un DataFrame\n",
    "aperturada_y_cobrada_df = pd.DataFrame([aperturada_y_cobrada_fila])\n",
    "\n",
    "# Agregar la fila 'Aperturada y Cobrada' después de la fila 'Salvo Buen Cobro'\n",
    "salvo_buen_cobro_p = resultado[resultado['estatus'] == 'Salvo Buen Cobro'].index[0]\n",
    "resultado = pd.concat([resultado.iloc[:salvo_buen_cobro_p+1], aperturada_y_cobrada_df, resultado.iloc[salvo_buen_cobro_p+1:]], ignore_index=True)\n",
    "\n",
    "# Calcular el porcentaje total de solicitudes\n",
    "resultado['porcentaje'] = resultado.apply(\n",
    "    lambda row: (row['monto_total'] / resultado.loc[resultado['estatus'] == 'Total', 'monto_total'].values[0]) * 100\n",
    "    if row['estatus'] not in ['Total', 'TUBERIA', 'Salvo Buen Cobro', 'Aperturada y Cobrada.', 'Mes Pasado Comprobado'] else None,\n",
    "    axis=1\n",
    ")\n",
    "\n",
    "# Porcentaje 'TUBERIA'\n",
    "tuberia_solicitudes = resultado.loc[resultado['estatus'] == 'TUBERIA', 'num_solicitudes'].values[0]\n",
    "resultado.loc[resultado['estatus'] == 'TUBERIA', 'porcentaje'] = round((tuberia_solicitudes / resultado.loc[resultado['estatus'] == 'Total', 'num_solicitudes'].values[0]) * 100, 2)\n",
    "\n",
    "# Porcentaje 'Salvo Buen Cobro'\n",
    "salvo_buen_cobro_solicitudes = resultado.loc[resultado['estatus'] == 'Salvo Buen Cobro', 'num_solicitudes'].values[0]\n",
    "resultado.loc[resultado['estatus'] == 'Salvo Buen Cobro', 'porcentaje'] = round((tuberia_solicitudes / salvo_buen_cobro_solicitudes) * 100, 2) if salvo_buen_cobro_solicitudes > 0 else 0\n",
    "\n",
    "# Porcentaje 'Total'\n",
    "estatus_excluidos = ['TUBERIA', 'Salvo Buen Cobro', 'Aperturada y Cobrada.', 'Mes Pasado Comprobado', 'Pre Capturada']\n",
    "total_ptc = resultado.loc[~resultado['estatus'].isin(estatus_excluidos), 'porcentaje'].sum()\n",
    "resultado.loc[resultado['estatus'] == 'Total', 'porcentaje'] = round(total_ptc, 2)\n",
    "\n",
    "# Porcentajes a 2 decimales\n",
    "resultado['porcentaje'] = resultado['porcentaje'].round(2)\n",
    "\n",
    "# Convertir 'num_solicitudes' a enteros\n",
    "resultado['num_solicitudes'] = resultado['num_solicitudes'].astype(int)\n",
    "resultado"
   ]
  },
  {
   "cell_type": "code",
   "execution_count": 38,
   "metadata": {},
   "outputs": [
    {
     "data": {
      "application/vnd.plotly.v1+json": {
       "config": {
        "plotlyServerURL": "https://plot.ly"
       },
       "data": [
        {
         "cells": {
          "align": "left",
          "fill": {
           "color": [
            [
             "white"
            ]
           ]
          },
          "font": {
           "color": "#E97132",
           "family": "sans-serif",
           "size": 14
          },
          "height": 30,
          "values": [
           [
            "Mes Pasado Comprobado"
           ],
           [
            "50"
           ],
           [
            "100000"
           ],
           [
            ""
           ]
          ]
         },
         "header": {
          "align": "left",
          "fill": {
           "color": "white"
          },
          "font": {
           "color": "#E97132",
           "family": "sans-serif",
           "size": 14
          },
          "line": {
           "color": "white"
          },
          "values": [
           "",
           "",
           "",
           ""
          ]
         },
         "type": "table"
        },
        {
         "cells": {
          "align": [
           "left",
           "center",
           "right",
           "center"
          ],
          "fill": {
           "color": [
            [
             "white",
             "white",
             "white",
             "#ffc000",
             "white",
             "white",
             "white",
             "white",
             "#fbe2d5",
             "white",
             "white",
             "white",
             "#8ed973",
             "white",
             "#fff2ce",
             "white",
             "white",
             "white",
             "white",
             "#8eaadc",
             "#8eaadc",
             "#dae1f3",
             "#002060"
            ]
           ]
          },
          "font": {
           "color": [
            [
             "#E97132",
             "black",
             "black",
             "black",
             "black",
             "black",
             "black",
             "black",
             "black",
             "black",
             "black",
             "black",
             "black",
             "black",
             "black",
             "black",
             "black",
             "black",
             "black",
             "black",
             "black",
             "red",
             "white"
            ]
           ]
          },
          "height": 30,
          "line": {
           "color": "rgba(0,0,0,0)"
          },
          "values": [
           [
            "Mes Pasado Comprobado",
            "Analisis CF",
            "Aperturada",
            "Aperturada y Cobrada",
            "Autorizada",
            "Cancelada",
            "Capturada",
            "Colocacion  Portal",
            "Devolucion CF",
            "Mesa de Control",
            "Pendiente por Sistema",
            "Por Autorizar",
            "Por Formalizar",
            "Pre Capturada",
            "Rechazo CF",
            "SBC",
            "ValidacionTelefonica",
            "Validación con ADC",
            "VoBo de Calidad",
            "Total",
            "TUBERIA",
            "Salvo Buen Cobro",
            "Aperturada y Cobrada."
           ],
           [
            80,
            24,
            6,
            701,
            2,
            89,
            27,
            9,
            21,
            6,
            2,
            5,
            7,
            207,
            40,
            1,
            1,
            5,
            2,
            1155,
            61,
            0,
            781
           ],
           [
            "$2,762,042.00",
            "$765,364.82",
            "$150,869.48",
            "$16,849,133.37",
            "$40,000.00",
            "$2,222,482.95",
            "$611,435.68",
            "$146,386.21",
            "$887,970.53",
            "$157,958.49",
            "$126,960.00",
            "$96,427.30",
            "$144,856.14",
            "$7,682,731.00",
            "$1,335,955.97",
            "$160,066.00",
            "$80,000.00",
            "$203,545.40",
            "$56,000.00",
            "$31,718,143.34",
            "$1,777,498.36",
            "$0.00",
            "$19,611,175.37"
           ],
           [
            "",
            "2.41%",
            "0.48%",
            "53.12%",
            "0.13%",
            "7.01%",
            "1.93%",
            "0.46%",
            "2.80%",
            "0.50%",
            "0.40%",
            "0.30%",
            "0.46%",
            "24.22%",
            "4.21%",
            "0.50%",
            "0.25%",
            "0.64%",
            "0.18%",
            "75.78%",
            "5.28%",
            "0.00%",
            ""
           ]
          ]
         },
         "header": {
          "align": "center",
          "fill": {
           "color": "#44b3e1"
          },
          "font": {
           "color": "white",
           "family": "sans-serif"
          },
          "values": [
           "<b>estatus</b>",
           "<b>num_solicitudes</b>",
           "<b>monto_total</b>",
           "<b>porcentaje</b>"
          ]
         },
         "type": "table"
        }
       ],
       "layout": {
        "height": 990,
        "template": {
         "data": {
          "bar": [
           {
            "error_x": {
             "color": "#2a3f5f"
            },
            "error_y": {
             "color": "#2a3f5f"
            },
            "marker": {
             "line": {
              "color": "#E5ECF6",
              "width": 0.5
             },
             "pattern": {
              "fillmode": "overlay",
              "size": 10,
              "solidity": 0.2
             }
            },
            "type": "bar"
           }
          ],
          "barpolar": [
           {
            "marker": {
             "line": {
              "color": "#E5ECF6",
              "width": 0.5
             },
             "pattern": {
              "fillmode": "overlay",
              "size": 10,
              "solidity": 0.2
             }
            },
            "type": "barpolar"
           }
          ],
          "carpet": [
           {
            "aaxis": {
             "endlinecolor": "#2a3f5f",
             "gridcolor": "white",
             "linecolor": "white",
             "minorgridcolor": "white",
             "startlinecolor": "#2a3f5f"
            },
            "baxis": {
             "endlinecolor": "#2a3f5f",
             "gridcolor": "white",
             "linecolor": "white",
             "minorgridcolor": "white",
             "startlinecolor": "#2a3f5f"
            },
            "type": "carpet"
           }
          ],
          "choropleth": [
           {
            "colorbar": {
             "outlinewidth": 0,
             "ticks": ""
            },
            "type": "choropleth"
           }
          ],
          "contour": [
           {
            "colorbar": {
             "outlinewidth": 0,
             "ticks": ""
            },
            "colorscale": [
             [
              0,
              "#0d0887"
             ],
             [
              0.1111111111111111,
              "#46039f"
             ],
             [
              0.2222222222222222,
              "#7201a8"
             ],
             [
              0.3333333333333333,
              "#9c179e"
             ],
             [
              0.4444444444444444,
              "#bd3786"
             ],
             [
              0.5555555555555556,
              "#d8576b"
             ],
             [
              0.6666666666666666,
              "#ed7953"
             ],
             [
              0.7777777777777778,
              "#fb9f3a"
             ],
             [
              0.8888888888888888,
              "#fdca26"
             ],
             [
              1,
              "#f0f921"
             ]
            ],
            "type": "contour"
           }
          ],
          "contourcarpet": [
           {
            "colorbar": {
             "outlinewidth": 0,
             "ticks": ""
            },
            "type": "contourcarpet"
           }
          ],
          "heatmap": [
           {
            "colorbar": {
             "outlinewidth": 0,
             "ticks": ""
            },
            "colorscale": [
             [
              0,
              "#0d0887"
             ],
             [
              0.1111111111111111,
              "#46039f"
             ],
             [
              0.2222222222222222,
              "#7201a8"
             ],
             [
              0.3333333333333333,
              "#9c179e"
             ],
             [
              0.4444444444444444,
              "#bd3786"
             ],
             [
              0.5555555555555556,
              "#d8576b"
             ],
             [
              0.6666666666666666,
              "#ed7953"
             ],
             [
              0.7777777777777778,
              "#fb9f3a"
             ],
             [
              0.8888888888888888,
              "#fdca26"
             ],
             [
              1,
              "#f0f921"
             ]
            ],
            "type": "heatmap"
           }
          ],
          "heatmapgl": [
           {
            "colorbar": {
             "outlinewidth": 0,
             "ticks": ""
            },
            "colorscale": [
             [
              0,
              "#0d0887"
             ],
             [
              0.1111111111111111,
              "#46039f"
             ],
             [
              0.2222222222222222,
              "#7201a8"
             ],
             [
              0.3333333333333333,
              "#9c179e"
             ],
             [
              0.4444444444444444,
              "#bd3786"
             ],
             [
              0.5555555555555556,
              "#d8576b"
             ],
             [
              0.6666666666666666,
              "#ed7953"
             ],
             [
              0.7777777777777778,
              "#fb9f3a"
             ],
             [
              0.8888888888888888,
              "#fdca26"
             ],
             [
              1,
              "#f0f921"
             ]
            ],
            "type": "heatmapgl"
           }
          ],
          "histogram": [
           {
            "marker": {
             "pattern": {
              "fillmode": "overlay",
              "size": 10,
              "solidity": 0.2
             }
            },
            "type": "histogram"
           }
          ],
          "histogram2d": [
           {
            "colorbar": {
             "outlinewidth": 0,
             "ticks": ""
            },
            "colorscale": [
             [
              0,
              "#0d0887"
             ],
             [
              0.1111111111111111,
              "#46039f"
             ],
             [
              0.2222222222222222,
              "#7201a8"
             ],
             [
              0.3333333333333333,
              "#9c179e"
             ],
             [
              0.4444444444444444,
              "#bd3786"
             ],
             [
              0.5555555555555556,
              "#d8576b"
             ],
             [
              0.6666666666666666,
              "#ed7953"
             ],
             [
              0.7777777777777778,
              "#fb9f3a"
             ],
             [
              0.8888888888888888,
              "#fdca26"
             ],
             [
              1,
              "#f0f921"
             ]
            ],
            "type": "histogram2d"
           }
          ],
          "histogram2dcontour": [
           {
            "colorbar": {
             "outlinewidth": 0,
             "ticks": ""
            },
            "colorscale": [
             [
              0,
              "#0d0887"
             ],
             [
              0.1111111111111111,
              "#46039f"
             ],
             [
              0.2222222222222222,
              "#7201a8"
             ],
             [
              0.3333333333333333,
              "#9c179e"
             ],
             [
              0.4444444444444444,
              "#bd3786"
             ],
             [
              0.5555555555555556,
              "#d8576b"
             ],
             [
              0.6666666666666666,
              "#ed7953"
             ],
             [
              0.7777777777777778,
              "#fb9f3a"
             ],
             [
              0.8888888888888888,
              "#fdca26"
             ],
             [
              1,
              "#f0f921"
             ]
            ],
            "type": "histogram2dcontour"
           }
          ],
          "mesh3d": [
           {
            "colorbar": {
             "outlinewidth": 0,
             "ticks": ""
            },
            "type": "mesh3d"
           }
          ],
          "parcoords": [
           {
            "line": {
             "colorbar": {
              "outlinewidth": 0,
              "ticks": ""
             }
            },
            "type": "parcoords"
           }
          ],
          "pie": [
           {
            "automargin": true,
            "type": "pie"
           }
          ],
          "scatter": [
           {
            "fillpattern": {
             "fillmode": "overlay",
             "size": 10,
             "solidity": 0.2
            },
            "type": "scatter"
           }
          ],
          "scatter3d": [
           {
            "line": {
             "colorbar": {
              "outlinewidth": 0,
              "ticks": ""
             }
            },
            "marker": {
             "colorbar": {
              "outlinewidth": 0,
              "ticks": ""
             }
            },
            "type": "scatter3d"
           }
          ],
          "scattercarpet": [
           {
            "marker": {
             "colorbar": {
              "outlinewidth": 0,
              "ticks": ""
             }
            },
            "type": "scattercarpet"
           }
          ],
          "scattergeo": [
           {
            "marker": {
             "colorbar": {
              "outlinewidth": 0,
              "ticks": ""
             }
            },
            "type": "scattergeo"
           }
          ],
          "scattergl": [
           {
            "marker": {
             "colorbar": {
              "outlinewidth": 0,
              "ticks": ""
             }
            },
            "type": "scattergl"
           }
          ],
          "scattermapbox": [
           {
            "marker": {
             "colorbar": {
              "outlinewidth": 0,
              "ticks": ""
             }
            },
            "type": "scattermapbox"
           }
          ],
          "scatterpolar": [
           {
            "marker": {
             "colorbar": {
              "outlinewidth": 0,
              "ticks": ""
             }
            },
            "type": "scatterpolar"
           }
          ],
          "scatterpolargl": [
           {
            "marker": {
             "colorbar": {
              "outlinewidth": 0,
              "ticks": ""
             }
            },
            "type": "scatterpolargl"
           }
          ],
          "scatterternary": [
           {
            "marker": {
             "colorbar": {
              "outlinewidth": 0,
              "ticks": ""
             }
            },
            "type": "scatterternary"
           }
          ],
          "surface": [
           {
            "colorbar": {
             "outlinewidth": 0,
             "ticks": ""
            },
            "colorscale": [
             [
              0,
              "#0d0887"
             ],
             [
              0.1111111111111111,
              "#46039f"
             ],
             [
              0.2222222222222222,
              "#7201a8"
             ],
             [
              0.3333333333333333,
              "#9c179e"
             ],
             [
              0.4444444444444444,
              "#bd3786"
             ],
             [
              0.5555555555555556,
              "#d8576b"
             ],
             [
              0.6666666666666666,
              "#ed7953"
             ],
             [
              0.7777777777777778,
              "#fb9f3a"
             ],
             [
              0.8888888888888888,
              "#fdca26"
             ],
             [
              1,
              "#f0f921"
             ]
            ],
            "type": "surface"
           }
          ],
          "table": [
           {
            "cells": {
             "fill": {
              "color": "#EBF0F8"
             },
             "line": {
              "color": "white"
             }
            },
            "header": {
             "fill": {
              "color": "#C8D4E3"
             },
             "line": {
              "color": "white"
             }
            },
            "type": "table"
           }
          ]
         },
         "layout": {
          "annotationdefaults": {
           "arrowcolor": "#2a3f5f",
           "arrowhead": 0,
           "arrowwidth": 1
          },
          "autotypenumbers": "strict",
          "coloraxis": {
           "colorbar": {
            "outlinewidth": 0,
            "ticks": ""
           }
          },
          "colorscale": {
           "diverging": [
            [
             0,
             "#8e0152"
            ],
            [
             0.1,
             "#c51b7d"
            ],
            [
             0.2,
             "#de77ae"
            ],
            [
             0.3,
             "#f1b6da"
            ],
            [
             0.4,
             "#fde0ef"
            ],
            [
             0.5,
             "#f7f7f7"
            ],
            [
             0.6,
             "#e6f5d0"
            ],
            [
             0.7,
             "#b8e186"
            ],
            [
             0.8,
             "#7fbc41"
            ],
            [
             0.9,
             "#4d9221"
            ],
            [
             1,
             "#276419"
            ]
           ],
           "sequential": [
            [
             0,
             "#0d0887"
            ],
            [
             0.1111111111111111,
             "#46039f"
            ],
            [
             0.2222222222222222,
             "#7201a8"
            ],
            [
             0.3333333333333333,
             "#9c179e"
            ],
            [
             0.4444444444444444,
             "#bd3786"
            ],
            [
             0.5555555555555556,
             "#d8576b"
            ],
            [
             0.6666666666666666,
             "#ed7953"
            ],
            [
             0.7777777777777778,
             "#fb9f3a"
            ],
            [
             0.8888888888888888,
             "#fdca26"
            ],
            [
             1,
             "#f0f921"
            ]
           ],
           "sequentialminus": [
            [
             0,
             "#0d0887"
            ],
            [
             0.1111111111111111,
             "#46039f"
            ],
            [
             0.2222222222222222,
             "#7201a8"
            ],
            [
             0.3333333333333333,
             "#9c179e"
            ],
            [
             0.4444444444444444,
             "#bd3786"
            ],
            [
             0.5555555555555556,
             "#d8576b"
            ],
            [
             0.6666666666666666,
             "#ed7953"
            ],
            [
             0.7777777777777778,
             "#fb9f3a"
            ],
            [
             0.8888888888888888,
             "#fdca26"
            ],
            [
             1,
             "#f0f921"
            ]
           ]
          },
          "colorway": [
           "#636efa",
           "#EF553B",
           "#00cc96",
           "#ab63fa",
           "#FFA15A",
           "#19d3f3",
           "#FF6692",
           "#B6E880",
           "#FF97FF",
           "#FECB52"
          ],
          "font": {
           "color": "#2a3f5f"
          },
          "geo": {
           "bgcolor": "white",
           "lakecolor": "white",
           "landcolor": "#E5ECF6",
           "showlakes": true,
           "showland": true,
           "subunitcolor": "white"
          },
          "hoverlabel": {
           "align": "left"
          },
          "hovermode": "closest",
          "mapbox": {
           "style": "light"
          },
          "paper_bgcolor": "white",
          "plot_bgcolor": "#E5ECF6",
          "polar": {
           "angularaxis": {
            "gridcolor": "white",
            "linecolor": "white",
            "ticks": ""
           },
           "bgcolor": "#E5ECF6",
           "radialaxis": {
            "gridcolor": "white",
            "linecolor": "white",
            "ticks": ""
           }
          },
          "scene": {
           "xaxis": {
            "backgroundcolor": "#E5ECF6",
            "gridcolor": "white",
            "gridwidth": 2,
            "linecolor": "white",
            "showbackground": true,
            "ticks": "",
            "zerolinecolor": "white"
           },
           "yaxis": {
            "backgroundcolor": "#E5ECF6",
            "gridcolor": "white",
            "gridwidth": 2,
            "linecolor": "white",
            "showbackground": true,
            "ticks": "",
            "zerolinecolor": "white"
           },
           "zaxis": {
            "backgroundcolor": "#E5ECF6",
            "gridcolor": "white",
            "gridwidth": 2,
            "linecolor": "white",
            "showbackground": true,
            "ticks": "",
            "zerolinecolor": "white"
           }
          },
          "shapedefaults": {
           "line": {
            "color": "#2a3f5f"
           }
          },
          "ternary": {
           "aaxis": {
            "gridcolor": "white",
            "linecolor": "white",
            "ticks": ""
           },
           "baxis": {
            "gridcolor": "white",
            "linecolor": "white",
            "ticks": ""
           },
           "bgcolor": "#E5ECF6",
           "caxis": {
            "gridcolor": "white",
            "linecolor": "white",
            "ticks": ""
           }
          },
          "title": {
           "x": 0.05
          },
          "xaxis": {
           "automargin": true,
           "gridcolor": "white",
           "linecolor": "white",
           "ticks": "",
           "title": {
            "standoff": 15
           },
           "zerolinecolor": "white",
           "zerolinewidth": 2
          },
          "yaxis": {
           "automargin": true,
           "gridcolor": "white",
           "linecolor": "white",
           "ticks": "",
           "title": {
            "standoff": 15
           },
           "zerolinecolor": "white",
           "zerolinewidth": 2
          }
         }
        },
        "title": {
         "text": "<b>Estatus, No. Solicitudes y Monto de Financiamientos</b>",
         "x": 0.5,
         "xanchor": "center",
         "yanchor": "top"
        },
        "width": 750
       }
      }
     },
     "metadata": {},
     "output_type": "display_data"
    }
   ],
   "source": [
    "import pandas as pd\n",
    "import plotly.graph_objects as go\n",
    "\n",
    "# Función para formatear los montos con el signo de peso y dos decimales\n",
    "def formatear_montos(df, column):\n",
    "    if column == 'porcentaje':\n",
    "        df[column] = df[column].apply(lambda x: f\"{x:.2f}%\" if pd.notnull(x) else '')\n",
    "    else:\n",
    "        df[column] = df[column].apply(lambda x: f\"${x:,.2f}\" if pd.notnull(x) else '')\n",
    "    return df\n",
    "\n",
    "# Aplicar el formato de montos en las columnas que corresponden\n",
    "resultado = formatear_montos(resultado, 'monto_total')\n",
    "resultado = formatear_montos(resultado, 'porcentaje')\n",
    "\n",
    "# Definir colores y formatos específicos\n",
    "header_color = '#44b3e1'\n",
    "default_bg_color = 'white'\n",
    "mes_pasado_color = '#E97132'\n",
    "tuberia_total_color = '#8eaadc'\n",
    "highlight_colors = {\n",
    "    'Aperturada y Cobrada': '#ffc000',\n",
    "    'Aperturada y Cobrada.': '#002060',\n",
    "    'Devolucion CF': '#fbe2d5',\n",
    "    'Devolucion CR': '#fbe2d5',\n",
    "    'Devolucion Mes Anterior': '#94dcf8',\n",
    "    'Por Formalizar': '#8ed973',\n",
    "    'Rechazo CF': '#fff2ce',\n",
    "    'Rechazo CR': '#caedfb',\n",
    "    'Total': tuberia_total_color,\n",
    "    'TUBERIA': tuberia_total_color,\n",
    "    'Salvo Buen Cobro': '#dae1f3',\n",
    "    'Mes Pasado Comprobado': default_bg_color\n",
    "}\n",
    "highlight_text_colors = {\n",
    "    'Aperturada y Cobrada.': 'white',\n",
    "    'Mes Pasado Comprobado': mes_pasado_color,\n",
    "    'Salvo Buen Cobro': 'red'\n",
    "}\n",
    "\n",
    "# Crear la figura de Plotly\n",
    "fig = go.Figure()\n",
    "\n",
    "# Agregar la fila \"Mes Pasado Comprobado\" arriba\n",
    "fig.add_trace(go.Table(\n",
    "    header=dict(\n",
    "        values=['', '', '', ''],\n",
    "        fill_color=default_bg_color,\n",
    "        line_color=default_bg_color,\n",
    "        font=dict(color=mes_pasado_color, family='sans-serif', size=14),\n",
    "        align='left'\n",
    "    ),\n",
    "    cells=dict(\n",
    "        values=[['Mes Pasado Comprobado'], ['50'], ['100000'], ['']],\n",
    "        fill_color=[[default_bg_color]],\n",
    "        font=dict(color=mes_pasado_color, family='sans-serif', size=14),\n",
    "        align='left',\n",
    "        height=30  # Ajuste para centrar verticalmente\n",
    "    )\n",
    "))\n",
    "\n",
    "# Ajustar las celdas de la tabla principal para que las filas específicas no muestren NaN ni 0 en \"porcentaje\"\n",
    "porcentaje_values = [\n",
    "    [\"\" if (estatus in ['Mes Pasado Comprobado', 'Aperturada y Cobrada.'] and pd.isnull(val)) else val \n",
    "     for estatus, val in zip(resultado['estatus'], resultado['porcentaje'])]\n",
    "]\n",
    "\n",
    "# Agregar la tabla principal\n",
    "fig.add_trace(go.Table(\n",
    "    header=dict(\n",
    "        values=[f'<b>{col}</b>' for col in resultado.columns],\n",
    "        fill_color=header_color,\n",
    "        font=dict(color='white', family='sans-serif'),\n",
    "        align='center'\n",
    "    ),\n",
    "    cells=dict(\n",
    "        values=[\n",
    "            resultado[col] if col != 'porcentaje' else porcentaje_values[0] \n",
    "            for col in resultado.columns\n",
    "        ],\n",
    "        fill_color=[\n",
    "            [highlight_colors.get(status, default_bg_color) for status in resultado['estatus']]\n",
    "        ],\n",
    "        font=dict(color=[\n",
    "            [highlight_text_colors.get(status, 'black') for status in resultado['estatus']]\n",
    "        ]),\n",
    "        align=[\n",
    "            'left' if resultado.columns[i] == 'estatus' and any(resultado['estatus'].str.contains(r'Aperturada y Cobrada\\.')) else 'right' if resultado.columns[i] in ['monto_total', 'porcentaje_monto'] else 'center'\n",
    "            for i in range(len(resultado.columns))\n",
    "        ],\n",
    "        height=30,  # Ajuste para centrar verticalmente\n",
    "        line_color='rgba(0,0,0,0)'  # Eliminar bordes blancos\n",
    "    )\n",
    "))\n",
    "\n",
    "# Ajustar el diseño con título\n",
    "fig.update_layout(\n",
    "    width=750,\n",
    "    height=990,\n",
    "    title={\n",
    "        'text': \"<b>Estatus, No. Solicitudes y Monto de Financiamientos</b>\",\n",
    "        'x': 0.5,\n",
    "        'xanchor': 'center',\n",
    "        'yanchor': 'top'\n",
    "    }\n",
    ")\n",
    "\n",
    "fig.show()"
   ]
  },
  {
   "cell_type": "code",
   "execution_count": 39,
   "metadata": {},
   "outputs": [
    {
     "name": "stdout",
     "output_type": "stream",
     "text": [
      "La imagen se ha guardado correctamente en la ruta 📂✅: C:\\Users\\quetz\\Documents\\financiamientos.jpg\n"
     ]
    }
   ],
   "source": [
    "# Definir la ruta para guardar la imagen\n",
    "ruta_imagen = r'C:\\Users\\quetz\\Documents\\financiamientos.jpg'\n",
    "\n",
    "# Guardar la figura como imagen en formato JPG\n",
    "fig.write_image(ruta_imagen)\n",
    "\n",
    "# Imprimir mensaje de éxito con la ruta\n",
    "print(f\"La imagen se ha guardado correctamente en la ruta 📂✅: {ruta_imagen}\")\n"
   ]
  }
 ],
 "metadata": {
  "kernelspec": {
   "display_name": "base",
   "language": "python",
   "name": "python3"
  },
  "language_info": {
   "codemirror_mode": {
    "name": "ipython",
    "version": 3
   },
   "file_extension": ".py",
   "mimetype": "text/x-python",
   "name": "python",
   "nbconvert_exporter": "python",
   "pygments_lexer": "ipython3",
   "version": "3.12.3"
  }
 },
 "nbformat": 4,
 "nbformat_minor": 2
}
